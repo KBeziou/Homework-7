{
 "cells": [
  {
   "cell_type": "code",
   "execution_count": 9,
   "metadata": {},
   "outputs": [
    {
     "data": {
      "text/plain": [
       "['structured-2018-04-01-birmingham',\n",
       " 'structured-2018-01-14-neworleans',\n",
       " 'structured-2018-04-19-relegation',\n",
       " 'structured-2018-04-08-proleague1',\n",
       " 'structured-2018-08-19-champs',\n",
       " 'structured-2018-07-29-proleague2',\n",
       " 'structured-2018-06-17-anaheim',\n",
       " 'structured-2018-03-11-atlanta',\n",
       " 'structured-2018-04-22-seattle']"
      ]
     },
     "execution_count": 9,
     "metadata": {},
     "output_type": "execute_result"
    }
   ],
   "source": [
    "import sys\n",
    "import os\n",
    "import tarfile\n",
    "import json\n",
    "import matplotlib.pyplot as plt\n",
    "from matplotlib.backends.backend_agg import FigureCanvasAgg as FigureCanvas\n",
    "from matplotlib.figure import Figure\n",
    "from glob import glob\n",
    "import ujson\n",
    "\n",
    "datadirs = glob(\"structured-2018*\")\n",
    "datadirs"
   ]
  },
  {
   "cell_type": "code",
   "execution_count": 13,
   "metadata": {},
   "outputs": [],
   "source": [
    "import matplotlib.pyplot as plt\n",
    "\n",
    "def visualizematch(matchdata, background_image, imagefile):\n",
    "    spawn_xs = []\n",
    "    spawn_ys = []\n",
    "    death_xs = []\n",
    "    death_ys = []\n",
    "    for e in matchdata['events']:\n",
    "        if e['type'] == 'spawn':\n",
    "            spawn_ys.append(e['data']['pos']['y'])\n",
    "            spawn_xs.append(e['data']['pos']['x'])\n",
    "        if e['type'] == 'death':\n",
    "            death_ys.append(e['data']['pos']['y'])\n",
    "            death_xs.append(e['data']['pos']['x'])\n",
    "            \n",
    "    fig = Figure()\n",
    "    FigureCanvas(fig)\n",
    "    ax = fig.subplots(1,1)\n",
    "\n",
    "    fig.set_figheight(15)\n",
    "    fig.set_figwidth(15)\n",
    "\n",
    "    img = plt.imread(background_image)\n",
    "    ax.imshow(img)\n",
    "\n",
    "    ax.set_facecolor((210/255.0, 210/255.0, 210/255.0))\n",
    "\n",
    "    # PLOT SPAWNS\n",
    "    ax.scatter(spawn_xs, spawn_ys, color='blue')\n",
    "    # PLOT DEATHS\n",
    "    ax.scatter(death_xs, death_ys, color='red')\n",
    "\n",
    "    # MAP TITLE\n",
    "    ax.set_title('{} ({})'.format(matchdata['map'], matchdata['mode']))\n",
    "    fig.savefig(imagefile)\n"
   ]
  },
  {
   "cell_type": "code",
   "execution_count": 14,
   "metadata": {},
   "outputs": [],
   "source": [
    "maprootdir = os.path.join('..', 'week6', 'cwl-data', 'maps', 'ww2')\n",
    "\n",
    "map_images = {\n",
    "    'Aachen': 'aachen.png',\n",
    "    'Ardennes Forest': 'ardennes_forest.png',\n",
    "    'Flak Tower': 'flaktower.png',\n",
    "    'Gibraltar': 'gibraltar.png',\n",
    "    'London Docks': 'london_docks.png',\n",
    "    'Sainte Marie du Mont': 'sainte_marie_du_mont.png' ,\n",
    "    'USS Texas': 'uss_texas.png',\n",
    "    'Valkyrie': 'valkyrie.png'\n",
    "}\n",
    "\n",
    "def parsejsonmatch(jsonfile, imagefile):\n",
    "    with open(jsonfile, 'r') as f:\n",
    "        rawdata = f.read()\n",
    "    data = ujson.loads(rawdata)\n",
    "\n",
    "    mapname = data['map']\n",
    "    if mapname in map_images:\n",
    "        mapfilename = map_images[mapname]\n",
    "        background_image = os.path.join(maprootdir, mapfilename)\n",
    "        visualizematch(data, background_image, imagefile)\n",
    "    else:\n",
    "        print(\"Error in {}\".format(jsonfile))\n"
   ]
  },
  {
   "cell_type": "code",
   "execution_count": 15,
   "metadata": {},
   "outputs": [
    {
     "name": "stdout",
     "output_type": "stream",
     "text": [
      "Error in structured-2018-03-11-atlanta/structured-1520731201-missing-champs-losers-1-3-map-1.json\n"
     ]
    }
   ],
   "source": [
    "for datadir in datadirs:\n",
    "    imagedir = 'images_' + datadir\n",
    "    if not os.path.exists(imagedir):\n",
    "        os.mkdir(imagedir)\n",
    "    jsonfiles = glob(os.path.join(datadir, \"*.json\"))\n",
    "    for jsonfile in jsonfiles:\n",
    "        basename = os.path.basename(jsonfile)\n",
    "        noextension = os.path.splitext(basename)[0]\n",
    "        imagename = noextension + '.png'\n",
    "        imagefile = os.path.join(imagedir, imagename)\n",
    "        parsejsonmatch(jsonfile, imagefile)"
   ]
  },
  {
   "cell_type": "code",
   "execution_count": null,
   "metadata": {},
   "outputs": [],
   "source": []
  }
 ],
 "metadata": {
  "kernelspec": {
   "display_name": "Python 3",
   "language": "python",
   "name": "python3"
  },
  "language_info": {
   "codemirror_mode": {
    "name": "ipython",
    "version": 3
   },
   "file_extension": ".py",
   "mimetype": "text/x-python",
   "name": "python",
   "nbconvert_exporter": "python",
   "pygments_lexer": "ipython3",
   "version": "3.7.2"
  }
 },
 "nbformat": 4,
 "nbformat_minor": 2
}
